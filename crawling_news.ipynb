{
 "cells": [
  {
   "cell_type": "code",
   "execution_count": 226,
   "id": "ef1241ff",
   "metadata": {},
   "outputs": [
    {
     "name": "stdout",
     "output_type": "stream",
     "text": [
      "Requirement already satisfied: selenium in /Users/hyundonglee/.pyenv/versions/week3_3/lib/python3.11/site-packages (4.31.0)\n",
      "Requirement already satisfied: webdriver_manager in /Users/hyundonglee/.pyenv/versions/week3_3/lib/python3.11/site-packages (4.0.2)\n",
      "Requirement already satisfied: BeautifulSoup4 in /Users/hyundonglee/.pyenv/versions/week3_3/lib/python3.11/site-packages (4.13.3)\n",
      "Requirement already satisfied: urllib3<3,>=1.26 in /Users/hyundonglee/.pyenv/versions/week3_3/lib/python3.11/site-packages (from urllib3[socks]<3,>=1.26->selenium) (2.3.0)\n",
      "Requirement already satisfied: trio~=0.17 in /Users/hyundonglee/.pyenv/versions/week3_3/lib/python3.11/site-packages (from selenium) (0.29.0)\n",
      "Requirement already satisfied: trio-websocket~=0.9 in /Users/hyundonglee/.pyenv/versions/week3_3/lib/python3.11/site-packages (from selenium) (0.12.2)\n",
      "Requirement already satisfied: certifi>=2021.10.8 in /Users/hyundonglee/.pyenv/versions/week3_3/lib/python3.11/site-packages (from selenium) (2025.1.31)\n",
      "Requirement already satisfied: typing_extensions~=4.9 in /Users/hyundonglee/.pyenv/versions/week3_3/lib/python3.11/site-packages (from selenium) (4.12.2)\n",
      "Requirement already satisfied: websocket-client~=1.8 in /Users/hyundonglee/.pyenv/versions/week3_3/lib/python3.11/site-packages (from selenium) (1.8.0)\n",
      "Requirement already satisfied: attrs>=23.2.0 in /Users/hyundonglee/.pyenv/versions/week3_3/lib/python3.11/site-packages (from trio~=0.17->selenium) (25.3.0)\n",
      "Requirement already satisfied: sortedcontainers in /Users/hyundonglee/.pyenv/versions/week3_3/lib/python3.11/site-packages (from trio~=0.17->selenium) (2.4.0)\n",
      "Requirement already satisfied: idna in /Users/hyundonglee/.pyenv/versions/week3_3/lib/python3.11/site-packages (from trio~=0.17->selenium) (3.10)\n",
      "Requirement already satisfied: outcome in /Users/hyundonglee/.pyenv/versions/week3_3/lib/python3.11/site-packages (from trio~=0.17->selenium) (1.3.0.post0)\n",
      "Requirement already satisfied: sniffio>=1.3.0 in /Users/hyundonglee/.pyenv/versions/week3_3/lib/python3.11/site-packages (from trio~=0.17->selenium) (1.3.1)\n",
      "Requirement already satisfied: wsproto>=0.14 in /Users/hyundonglee/.pyenv/versions/week3_3/lib/python3.11/site-packages (from trio-websocket~=0.9->selenium) (1.2.0)\n",
      "Requirement already satisfied: pysocks!=1.5.7,<2.0,>=1.5.6 in /Users/hyundonglee/.pyenv/versions/week3_3/lib/python3.11/site-packages (from urllib3[socks]<3,>=1.26->selenium) (1.7.1)\n",
      "Requirement already satisfied: requests in /Users/hyundonglee/.pyenv/versions/week3_3/lib/python3.11/site-packages (from webdriver_manager) (2.32.3)\n",
      "Requirement already satisfied: python-dotenv in /Users/hyundonglee/.pyenv/versions/week3_3/lib/python3.11/site-packages (from webdriver_manager) (1.1.0)\n",
      "Requirement already satisfied: packaging in /Users/hyundonglee/.pyenv/versions/week3_3/lib/python3.11/site-packages (from webdriver_manager) (24.2)\n",
      "Requirement already satisfied: soupsieve>1.2 in /Users/hyundonglee/.pyenv/versions/week3_3/lib/python3.11/site-packages (from BeautifulSoup4) (2.6)\n",
      "Requirement already satisfied: h11<1,>=0.9.0 in /Users/hyundonglee/.pyenv/versions/week3_3/lib/python3.11/site-packages (from wsproto>=0.14->trio-websocket~=0.9->selenium) (0.14.0)\n",
      "Requirement already satisfied: charset-normalizer<4,>=2 in /Users/hyundonglee/.pyenv/versions/week3_3/lib/python3.11/site-packages (from requests->webdriver_manager) (3.4.1)\n",
      "Requirement already satisfied: chromedriver_autoinstaller in /Users/hyundonglee/.pyenv/versions/week3_3/lib/python3.11/site-packages (0.6.4)\n",
      "Requirement already satisfied: requests in /Users/hyundonglee/.pyenv/versions/week3_3/lib/python3.11/site-packages (2.32.3)\n",
      "Requirement already satisfied: mysql-connector-python in /Users/hyundonglee/.pyenv/versions/week3_3/lib/python3.11/site-packages (9.3.0)\n",
      "Requirement already satisfied: packaging>=23.1 in /Users/hyundonglee/.pyenv/versions/week3_3/lib/python3.11/site-packages (from chromedriver_autoinstaller) (24.2)\n",
      "Requirement already satisfied: charset-normalizer<4,>=2 in /Users/hyundonglee/.pyenv/versions/week3_3/lib/python3.11/site-packages (from requests) (3.4.1)\n",
      "Requirement already satisfied: idna<4,>=2.5 in /Users/hyundonglee/.pyenv/versions/week3_3/lib/python3.11/site-packages (from requests) (3.10)\n",
      "Requirement already satisfied: urllib3<3,>=1.21.1 in /Users/hyundonglee/.pyenv/versions/week3_3/lib/python3.11/site-packages (from requests) (2.3.0)\n",
      "Requirement already satisfied: certifi>=2017.4.17 in /Users/hyundonglee/.pyenv/versions/week3_3/lib/python3.11/site-packages (from requests) (2025.1.31)\n"
     ]
    }
   ],
   "source": [
    "!pip install selenium webdriver_manager BeautifulSoup4\n",
    "!pip install chromedriver_autoinstaller requests mysql-connector-python"
   ]
  },
  {
   "cell_type": "code",
   "execution_count": 227,
   "id": "77ea161f",
   "metadata": {},
   "outputs": [],
   "source": [
    "import re\n",
    "import time\n",
    "import mysql.connector\n",
    "from selenium import webdriver\n",
    "import chromedriver_autoinstaller\n",
    "from bs4 import BeautifulSoup\n",
    "from selenium.webdriver.common.by import By\n",
    "from datetime import datetime, timedelta"
   ]
  },
  {
   "cell_type": "code",
   "execution_count": 228,
   "id": "a00a4112",
   "metadata": {},
   "outputs": [],
   "source": [
    "chrome_options = webdriver.ChromeOptions()\n",
    "# chrome_options.add_argument('--headless')\n",
    "chromedriver_autoinstaller.install()\n",
    "\n",
    "driver = webdriver.Chrome(options=chrome_options)"
   ]
  },
  {
   "cell_type": "code",
   "execution_count": 229,
   "id": "9ee9510d",
   "metadata": {},
   "outputs": [
    {
     "data": {
      "text/plain": [
       "<mysql.connector.connection_cext.CMySQLConnection at 0x10d3a1590>"
      ]
     },
     "execution_count": 229,
     "metadata": {},
     "output_type": "execute_result"
    }
   ],
   "source": [
    "db_config = {\n",
    "\t'host': 'localhost',\n",
    "\t'user': 'root',\n",
    "\t'password': '1234',\n",
    "\t'database': 'news_sentiment_db'\n",
    "}\n",
    "\n",
    "def connect_db():\n",
    "\t\treturn mysql.connector.connect(**db_config)\n",
    "\n",
    "connect_db()"
   ]
  },
  {
   "cell_type": "code",
   "execution_count": 230,
   "id": "b6df3a1b",
   "metadata": {},
   "outputs": [],
   "source": [
    "KEYWORDS = [\"SKT\", \"해킹\", \"유심\"]\n",
    "PUBLISHER = [\"연합뉴스\", \"뉴시스\", \"서울경제\", \"데일리안\", \"뉴스1\", \"디지털데일리\", \"한국경제\", \"파이낸셜뉴스\"]"
   ]
  },
  {
   "cell_type": "code",
   "execution_count": null,
   "id": "10eec9a6",
   "metadata": {},
   "outputs": [],
   "source": [
    "def save_articles_to_db(articles):\n",
    "\tconn = connect_db()\n",
    "\tcursor = conn.cursor()\n",
    "\tsql = \"\"\"\n",
    "\t\tINSERT INTO news_articles (title, summary, publisher, publish_date, url, comment_count, collected_at)\n",
    "\t\tVALUES (%s, %s, %s, %s, %s, %s, NOW())\n",
    "\t\"\"\"\n",
    "\tcursor.executemany(sql, [(article['title'], article['summary'], article['publisher'],\n",
    "\t\t\t\t\t\t\t  article['publish_date'], article['url'], article['comment_count'])\n",
    "\t\t\t\t\t\t\t for article in articles])\n",
    "\tconn.commit()\n",
    "\tconn.close()\n",
    "\n",
    "def save_comments_to_db(article_id, comments):\n",
    "    conn = connect_db()\n",
    "    cursor = conn.cursor()\n",
    "    sql = \"\"\"\n",
    "        INSERT INTO news_comments (article_id, parent_comment_id, nickname, content, like_count, dislike_count, comment_date, collected_at)\n",
    "        VALUES (%s, %s, %s, %s, %s, %s, %s, NOW())\n",
    "    \"\"\"\n",
    "    cursor.executemany(sql, [(article_id, *c) for c in comments])\n",
    "    conn.commit()\n",
    "    conn.close()"
   ]
  },
  {
   "cell_type": "code",
   "execution_count": null,
   "id": "f37a5cba",
   "metadata": {},
   "outputs": [],
   "source": [
    "# 기사 목록 더보기 클릭\n",
    "def click_more_article():\n",
    "\twhile True:  \n",
    "\t\ttry:\n",
    "\t\t\tdriver.execute_script(\"window.scrollTo(0, document.body.scrollHeight);\")\n",
    "\t\t\ttime.sleep(5)\n",
    "\t\t\tmore_btn = driver.find_element(By.CSS_SELECTOR, '#newsct > div.section_latest > div > div.section_more > a')\n",
    "\t\t\tmore_btn.click()\n",
    "\t\t\ttime.sleep(1.5)\n",
    "\t\texcept:\n",
    "\t\t\tbreak\n",
    "\n",
    "# 기사 내 댓글 더보기 클릭\n",
    "def click_to_comment():\n",
    "\ttry:\n",
    "\t\tdriver.execute_script(\"window.scrollTo(0, document.body.scrollHeight);\")\n",
    "\t\ttime.sleep(5)\n",
    "\t\tmore_button = driver.find_element(By.CSS_SELECTOR, \"a.u_cbox_btn_view_comment\")\n",
    "\t\tmore_button.click()\n",
    "\t\ttime.sleep(1.5)\n",
    "\n",
    "\texcept:\n",
    "\t\tprint(\"댓글 더보기 클릭 실패\")\n",
    "\n",
    "# 댓글 모음 내 더보기 클릭\n",
    "def click_more_comment():\n",
    "\twhile True:\n",
    "\t\ttry:\n",
    "\t\t\tdriver.execute_script(\"window.scrollTo(0, document.body.scrollHeight);\")\n",
    "\t\t\ttime.sleep(5)\n",
    "\t\t\tmore_btn = driver.find_element(By.CSS_SELECTOR, \"a.u_cbox_btn_more\")\n",
    "\t\t\tmore_btn.click()\n",
    "\t\t\ttime.sleep(1.5)\n",
    "\t\texcept:\n",
    "\t\t\tbreak"
   ]
  },
  {
   "cell_type": "code",
   "execution_count": 233,
   "id": "dd99a9a6",
   "metadata": {},
   "outputs": [],
   "source": [
    "# def parse_publish_date(raw_date_str):\n",
    "#     try:\n",
    "#         match = re.match(r'(\\d+)일전', raw_date_str)\n",
    "#         if match:\n",
    "#             days_ago = int(match.group(1))\n",
    "#             return (datetime.now() - timedelta(days=days_ago)).date()\n",
    "\n",
    "#         match = re.match(r'(\\d{4})\\.(\\d{2})\\.(\\d{2})\\.', raw_date_str)\n",
    "#         if match:\n",
    "#             year, month, day = map(int, match.groups())\n",
    "#             return datetime(year, month, day).date()\n",
    "\n",
    "#         print(\"날짜 형식 미매칭:\", raw_date_str)\n",
    "#         return None\n",
    "\n",
    "#     except Exception as e:\n",
    "#         print(\"날짜 파싱 실패:\", raw_date_str, e)\n",
    "#         return None\n"
   ]
  },
  {
   "cell_type": "code",
   "execution_count": null,
   "id": "f61feab1",
   "metadata": {},
   "outputs": [],
   "source": [
    "def get_article_data(article, publish_date):\n",
    "\tarticle_data = {}\n",
    "\n",
    "\ttry:\n",
    "\t\tarticle_data['title'] = article.find_element(By.CSS_SELECTOR, 'a.sa_text_title > strong.sa_text_strong').text.strip()\n",
    "\t\tarticle_data['summary'] = article.find_element(By.CSS_SELECTOR, 'div.sa_text_lede').text.strip()\n",
    "\t\tarticle_data['url'] = article.find_element(By.CSS_SELECTOR, 'a.sa_text_title').get_attribute('href')\n",
    "\t\tarticle_data['publisher'] = article.find_element(By.CSS_SELECTOR, 'div.sa_text_press').text.strip()\n",
    "\t\tarticle_data['publish_date'] = publish_date\n",
    "\n",
    "\t\t# 기사 날짜 저장 시 사용하려고 했지만, ~일 전으로 뜨는 경우 값이 굳이 계산이 필요 없을 것 같아서 파라미터로 넘기는 날짜를 사용\n",
    "\t\t# raw_date = article.find_element(By.CSS_SELECTOR, 'div.sa_text_datetime > b').text.strip()\n",
    "\t\t# article_data['publish_date'] = parse_publish_date(raw_date)\n",
    "\n",
    "\t\ttry:\n",
    "\t\t\tcomment_element = article.find_element(By.CSS_SELECTOR, 'div.sa_text_info_right > a.sa_text_cmt')\n",
    "\t\t\tif comment_element.is_displayed():\n",
    "\t\t\t\tcomment_text = comment_element.text.strip()\n",
    "\t\t\t\tcomment_number = int(''.join(filter(str.isdigit, comment_text)))\n",
    "\t\t\t\tarticle_data['comment_count'] = comment_number\n",
    "\t\t\telse:\n",
    "\t\t\t\tarticle_data['comment_count'] = 0\n",
    "\t\texcept:\n",
    "\t\t\tarticle_data['comment_count'] = 0\n",
    "\n",
    "\t\treturn article_data\n",
    "\n",
    "\texcept Exception as e:\n",
    "\t\tprint(\"오류 발생:\", e)\n",
    "\t\treturn None\n",
    "\n",
    "\n",
    "# def get_comment_count(url):\n",
    "#   try:\n",
    "#     driver.execute_script(\"window.open('');\")\n",
    "#     driver.switch_to.window(driver.window_handles[1])\n",
    "#     driver.get(url)\n",
    "#     time.sleep(2)\n",
    "#     soup = BeautifulSoup(driver.page_source, 'html.parser')\n",
    "#     comment_tag = soup.select_one('span.u_cbox_count')\n",
    "#     driver.close()\n",
    "#     driver.switch_to.window(driver.window_handles[0])\n",
    "\t\n",
    "#     return int(comment_tag.text) if comment_tag else 0\n",
    "#   except:\n",
    "#     return 0"
   ]
  },
  {
   "cell_type": "code",
   "execution_count": null,
   "id": "3a12f8bb",
   "metadata": {},
   "outputs": [],
   "source": [
    "def crawl_by_date(date_str):\n",
    "\tsearch_url = f\"https://news.naver.com/breakingnews/section/105/732?date={date_str}\"\n",
    "\tdriver.get(search_url)\n",
    "\ttime.sleep(2)\n",
    "\n",
    "\tclick_more_article()\n",
    "\n",
    "\tdata_to_save_article = []\n",
    "\tarticles = driver.find_elements(By.CSS_SELECTOR, \"li.sa_item\")\n",
    "\n",
    "\tfor art in articles:\n",
    "\t\tarticle_data = get_article_data(art, date_str)\n",
    "\n",
    "\t\tif not article_data:\n",
    "\t\t\tcontinue\n",
    "\n",
    "\t\tif not any(k in (article_data['title'] + article_data['summary']) for k in KEYWORDS):\n",
    "\t\t\tcontinue\n",
    "\t\tif article_data['publisher'] not in PUBLISHER:\n",
    "\t\t\tcontinue\n",
    "\n",
    "\t\tdata_to_save_article.append(article_data)\n",
    "\n",
    "\tif data_to_save_article:\n",
    "\t\tprint(f\"{len(data_to_save_article)}개의 기사가 필터링되어 저장됩니다.\")\n",
    "\t\tsave_articles_to_db(data_to_save_article)\n",
    "\n",
    "def run_crawler_daily():\n",
    "  today = datetime.today()\n",
    "  yesterday = today - timedelta(days=1)\n",
    "  date_str = yesterday.strftime('%Y%m%d')\n",
    "  crawl_by_date(date_str)"
   ]
  },
  {
   "cell_type": "code",
   "execution_count": 236,
   "id": "e8139e67",
   "metadata": {},
   "outputs": [
    {
     "name": "stdout",
     "output_type": "stream",
     "text": [
      "35개의 기사가 필터링되어 저장됩니다.\n"
     ]
    }
   ],
   "source": [
    "def main():\n",
    "\tcrawl_by_date(\"20250508\")\n",
    "\t# run_crawler_daily()\n",
    "\n",
    "if __name__ == \"__main__\":\n",
    "\t\tmain()"
   ]
  }
 ],
 "metadata": {
  "kernelspec": {
   "display_name": "week3_3",
   "language": "python",
   "name": "python3"
  },
  "language_info": {
   "codemirror_mode": {
    "name": "ipython",
    "version": 3
   },
   "file_extension": ".py",
   "mimetype": "text/x-python",
   "name": "python",
   "nbconvert_exporter": "python",
   "pygments_lexer": "ipython3",
   "version": "3.11.11"
  }
 },
 "nbformat": 4,
 "nbformat_minor": 5
}
